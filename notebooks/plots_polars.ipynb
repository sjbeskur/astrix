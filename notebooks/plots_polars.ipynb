{
 "cells": [
  {
   "cell_type": "code",
   "execution_count": 7,
   "metadata": {},
   "outputs": [
    {
     "data": {
      "text/html": [
       "<div><style>\n",
       ".dataframe > thead > tr > th,\n",
       ".dataframe > tbody > tr > td {\n",
       "  text-align: right;\n",
       "}\n",
       "</style>\n",
       "<small>shape: (938_654, 9)</small><table border=\"1\" class=\"dataframe\"><thead><tr><th>ra</th><th>dec</th><th>b1mag</th><th>ra_radians</th><th>dec_radians</th><th>mag_norm</th><th>x</th><th>y</th><th>z</th></tr><tr><td>f64</td><td>f64</td><td>f64</td><td>f64</td><td>f64</td><td>f64</td><td>f64</td><td>f64</td><td>f64</td></tr></thead><tbody><tr><td>193.490547</td><td>-68.974194</td><td>10.99</td><td>3.377047</td><td>-1.203827</td><td>2.0</td><td>-0.348889</td><td>-0.0837</td><td>-0.933419</td></tr><tr><td>134.389984</td><td>-80.206625</td><td>10.99</td><td>2.345548</td><td>-1.39987</td><td>2.0</td><td>-0.118988</td><td>0.121549</td><td>-0.985428</td></tr><tr><td>132.618729</td><td>-64.472086</td><td>10.99</td><td>2.314633</td><td>-1.12525</td><td>2.0</td><td>-0.291804</td><td>0.317126</td><td>-0.902375</td></tr><tr><td>328.155157</td><td>-71.285822</td><td>10.99</td><td>5.727388</td><td>-1.244172</td><td>2.0</td><td>0.272553</td><td>-0.169286</td><td>-0.947131</td></tr><tr><td>200.841821</td><td>-73.925073</td><td>10.99</td><td>3.505351</td><td>-1.290236</td><td>2.0</td><td>-0.258776</td><td>-0.098516</td><td>-0.9609</td></tr><tr><td>178.313062</td><td>-66.686952</td><td>10.99</td><td>3.11215</td><td>-1.163907</td><td>2.0</td><td>-0.395583</td><td>0.01165</td><td>-0.918356</td></tr><tr><td>169.884249</td><td>-73.912512</td><td>10.99</td><td>2.965039</td><td>-1.290017</td><td>2.0</td><td>-0.272797</td><td>0.04867</td><td>-0.96084</td></tr><tr><td>231.650531</td><td>-64.455229</td><td>10.99</td><td>4.043064</td><td>-1.124956</td><td>2.0</td><td>-0.267551</td><td>-0.338177</td><td>-0.902249</td></tr><tr><td>233.888103</td><td>-68.936751</td><td>10.99</td><td>4.082117</td><td>-1.203173</td><td>2.0</td><td>-0.211816</td><td>-0.290346</td><td>-0.933184</td></tr><tr><td>245.981598</td><td>-73.894898</td><td>10.99</td><td>4.293189</td><td>-1.289709</td><td>2.0</td><td>-0.11291</td><td>-0.253381</td><td>-0.960754</td></tr><tr><td>246.200476</td><td>-70.058529</td><td>10.99</td><td>4.297009</td><td>-1.222752</td><td>2.0</td><td>-0.137631</td><td>-0.312057</td><td>-0.940042</td></tr><tr><td>190.425311</td><td>-66.667444</td><td>10.99</td><td>3.323549</td><td>-1.163566</td><td>2.0</td><td>-0.389529</td><td>-0.07167</td><td>-0.918221</td></tr><tr><td>&hellip;</td><td>&hellip;</td><td>&hellip;</td><td>&hellip;</td><td>&hellip;</td><td>&hellip;</td><td>&hellip;</td><td>&hellip;</td><td>&hellip;</td></tr><tr><td>304.068328</td><td>-2.336699</td><td>0.75</td><td>5.306993</td><td>-0.040783</td><td>1.180144</td><td>0.559715</td><td>-0.827681</td><td>-0.040772</td></tr><tr><td>210.955894</td><td>-60.372975</td><td>0.6</td><td>3.681875</td><td>-1.053707</td><td>1.168135</td><td>-0.423938</td><td>-0.254284</td><td>-0.869262</td></tr><tr><td>24.428466</td><td>-57.236726</td><td>0.5</td><td>0.426357</td><td>-0.998969</td><td>1.160128</td><td>0.492723</td><td>0.223804</td><td>-0.840914</td></tr><tr><td>88.793019</td><td>7.407098</td><td>0.4</td><td>1.549731</td><td>0.129278</td><td>1.152122</td><td>0.020888</td><td>0.991435</td><td>0.128918</td></tr><tr><td>114.825544</td><td>5.225022</td><td>0.4</td><td>2.004084</td><td>0.091194</td><td>1.152122</td><td>-0.418112</td><td>0.903819</td><td>0.091067</td></tr><tr><td>78.634485</td><td>-8.201653</td><td>0.1</td><td>1.372431</td><td>-0.143146</td><td>1.128102</td><td>0.195052</td><td>0.970363</td><td>-0.142657</td></tr><tr><td>79.172323</td><td>45.99798</td><td>0.1</td><td>1.381818</td><td>0.802816</td><td>1.128102</td><td>0.1305</td><td>0.682316</td><td>0.719315</td></tr><tr><td>279.234737</td><td>38.78369</td><td>0.03</td><td>4.873566</td><td>0.676903</td><td>1.122498</td><td>0.125096</td><td>-0.769413</td><td>0.626382</td></tr><tr><td>219.899787</td><td>-60.835273</td><td>0.0</td><td>3.837975</td><td>-1.061776</td><td>1.120096</td><td>-0.373858</td><td>-0.312591</td><td>-0.873222</td></tr><tr><td>213.915319</td><td>19.18245</td><td>0.0</td><td>3.733527</td><td>0.334797</td><td>1.120096</td><td>-0.783787</td><td>-0.526987</td><td>0.328577</td></tr><tr><td>95.987955</td><td>-52.695661</td><td>-0.62</td><td>1.675306</td><td>-0.919713</td><td>1.070456</td><td>-0.063223</td><td>0.602742</td><td>-0.795428</td></tr><tr><td>101.287024</td><td>-16.716001</td><td>-1.5</td><td>1.767792</td><td>-0.291749</td><td>1.0</td><td>-0.187453</td><td>0.939219</td><td>-0.287628</td></tr></tbody></table></div>"
      ],
      "text/plain": [
       "shape: (938_654, 9)\n",
       "┌────────────┬────────────┬───────┬────────────┬───┬──────────┬───────────┬───────────┬───────────┐\n",
       "│ ra         ┆ dec        ┆ b1mag ┆ ra_radians ┆ … ┆ mag_norm ┆ x         ┆ y         ┆ z         │\n",
       "│ ---        ┆ ---        ┆ ---   ┆ ---        ┆   ┆ ---      ┆ ---       ┆ ---       ┆ ---       │\n",
       "│ f64        ┆ f64        ┆ f64   ┆ f64        ┆   ┆ f64      ┆ f64       ┆ f64       ┆ f64       │\n",
       "╞════════════╪════════════╪═══════╪════════════╪═══╪══════════╪═══════════╪═══════════╪═══════════╡\n",
       "│ 193.490547 ┆ -68.974194 ┆ 10.99 ┆ 3.377047   ┆ … ┆ 2.0      ┆ -0.348889 ┆ -0.0837   ┆ -0.933419 │\n",
       "│ 134.389984 ┆ -80.206625 ┆ 10.99 ┆ 2.345548   ┆ … ┆ 2.0      ┆ -0.118988 ┆ 0.121549  ┆ -0.985428 │\n",
       "│ 132.618729 ┆ -64.472086 ┆ 10.99 ┆ 2.314633   ┆ … ┆ 2.0      ┆ -0.291804 ┆ 0.317126  ┆ -0.902375 │\n",
       "│ 328.155157 ┆ -71.285822 ┆ 10.99 ┆ 5.727388   ┆ … ┆ 2.0      ┆ 0.272553  ┆ -0.169286 ┆ -0.947131 │\n",
       "│ …          ┆ …          ┆ …     ┆ …          ┆ … ┆ …        ┆ …         ┆ …         ┆ …         │\n",
       "│ 219.899787 ┆ -60.835273 ┆ 0.0   ┆ 3.837975   ┆ … ┆ 1.120096 ┆ -0.373858 ┆ -0.312591 ┆ -0.873222 │\n",
       "│ 213.915319 ┆ 19.18245   ┆ 0.0   ┆ 3.733527   ┆ … ┆ 1.120096 ┆ -0.783787 ┆ -0.526987 ┆ 0.328577  │\n",
       "│ 95.987955  ┆ -52.695661 ┆ -0.62 ┆ 1.675306   ┆ … ┆ 1.070456 ┆ -0.063223 ┆ 0.602742  ┆ -0.795428 │\n",
       "│ 101.287024 ┆ -16.716001 ┆ -1.5  ┆ 1.767792   ┆ … ┆ 1.0      ┆ -0.187453 ┆ 0.939219  ┆ -0.287628 │\n",
       "└────────────┴────────────┴───────┴────────────┴───┴──────────┴───────────┴───────────┴───────────┘"
      ]
     },
     "metadata": {},
     "output_type": "display_data"
    },
    {
     "data": {
      "text/html": [
       "<div><style>\n",
       ".dataframe > thead > tr > th,\n",
       ".dataframe > tbody > tr > td {\n",
       "  text-align: right;\n",
       "}\n",
       "</style>\n",
       "<small>shape: (1, 1)</small><table border=\"1\" class=\"dataframe\"><thead><tr><th>count</th></tr><tr><td>u32</td></tr></thead><tbody><tr><td>938654</td></tr></tbody></table></div>"
      ],
      "text/plain": [
       "shape: (1, 1)\n",
       "┌────────┐\n",
       "│ count  │\n",
       "│ ---    │\n",
       "│ u32    │\n",
       "╞════════╡\n",
       "│ 938654 │\n",
       "└────────┘"
      ]
     },
     "execution_count": 7,
     "metadata": {},
     "output_type": "execute_result"
    }
   ],
   "source": [
    "import polars as pl \n",
    "import matplotlib.pyplot as plt\n",
    "\n",
    "def NormalizeData(data, min, max):\n",
    "    return (data - min) / (max - min)\n",
    "\n",
    "\n",
    "magnitude = 11 #7.5 # most humans can only see this\n",
    "\n",
    "pi = 3.14159265358\n",
    "df = pl.read_csv(\"../data/1680058493237O-result.csv\", has_header=True)\n",
    "df  = df.filter(pl.col(\"b1mag\") < magnitude)\n",
    "df = df.sort('b1mag') #,descending=True)\n",
    "max = df.select(pl.max('b1mag'))\n",
    "min = df.select(pl.min('b1mag'))\n",
    "\n",
    "df = df.with_columns([\n",
    "    (pl.col('ra') * pi / 180).alias(\"ra_radians\"),\n",
    "    (pl.col('dec') * pi / 180).alias(\"dec_radians\"),\n",
    "    ( ((pl.col('b1mag') - min) / (max - min)) + 1).alias(\"mag_norm\")\n",
    "])\n",
    "\n",
    "df = df.with_columns([\n",
    "    (pl.col(\"dec_radians\").cos() * pl.col(\"ra_radians\").cos()).alias(\"x\"),\n",
    "    (pl.col(\"dec_radians\").cos() * pl.col(\"ra_radians\").sin()).alias(\"y\"),\n",
    "    (pl.col(\"dec_radians\").sin() ).alias(\"z\")\n",
    "])\n",
    "display(df.sort(\"b1mag\", descending=True))\n",
    "\n",
    "df.select(pl.count())"
   ]
  },
  {
   "cell_type": "code",
   "execution_count": null,
   "metadata": {},
   "outputs": [],
   "source": [
    "fig = plt.figure( figsize=(50,50), facecolor=\"white\")\n",
    "ax = fig.add_subplot(111,projection=\"3d\")\n",
    "\n",
    "xx, yy, zz = df.select(\"x\", \"y\", \"z\")\n",
    "ax.scatter(xx, yy, zz, c='magenta', s=.5) #, marker='*'\n",
    "ax.set_facecolor(\"white\")\n",
    "plt.show()\n",
    "\n"
   ]
  }
 ],
 "metadata": {
  "kernelspec": {
   "display_name": "Python 3",
   "language": "python",
   "name": "python3"
  },
  "language_info": {
   "codemirror_mode": {
    "name": "ipython",
    "version": 3
   },
   "file_extension": ".py",
   "mimetype": "text/x-python",
   "name": "python",
   "nbconvert_exporter": "python",
   "pygments_lexer": "ipython3",
   "version": "3.10.12"
  },
  "orig_nbformat": 4
 },
 "nbformat": 4,
 "nbformat_minor": 2
}
