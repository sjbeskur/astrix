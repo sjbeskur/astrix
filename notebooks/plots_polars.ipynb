{
 "cells": [
  {
   "cell_type": "code",
   "execution_count": null,
   "metadata": {},
   "outputs": [],
   "source": [
    "import polars as pl \n",
    "import matplotlib.pyplot as plt\n",
    "\n",
    "def NormalizeData(data, min, max):\n",
    "    return (data - min) / (max - min)\n",
    "\n",
    "\n",
    "magnitude = 11 #7.5 # most humans \n",
    "\n",
    "pi = 3.14159265358\n",
    "df = pl.read_csv(\"../data/1680058493237O-result.csv\", has_header=True)\n",
    "df  = df.filter(pl.col(\"b1mag\") < magnitude)\n",
    "df = df.sort('b1mag') #,descending=True)\n",
    "max = df.select(pl.max('b1mag'))\n",
    "min = df.select(pl.min('b1mag'))\n",
    "\n",
    "df = df.with_columns([\n",
    "    (pl.col('ra') * pi / 180).alias(\"ra_radians\"),\n",
    "    (pl.col('dec') * pi / 180).alias(\"dec_radians\"),\n",
    "    ( ((pl.col('b1mag') - min) / (max - min)) + 1).alias(\"mag_norm\")\n",
    "])\n",
    "\n",
    "df = df.with_columns([\n",
    "    (pl.col(\"dec_radians\").cos() * pl.col(\"ra_radians\").cos()).alias(\"x\"),\n",
    "    (pl.col(\"dec_radians\").cos() * pl.col(\"ra_radians\").sin()).alias(\"y\"),\n",
    "    (pl.col(\"dec_radians\").sin() ).alias(\"z\")\n",
    "])\n",
    "display(df)\n",
    "\n",
    "df.select(pl.count())"
   ]
  },
  {
   "cell_type": "code",
   "execution_count": null,
   "metadata": {},
   "outputs": [],
   "source": [
    "fig = plt.figure( figsize=(100,100), facecolor=\"black\")\n",
    "ax = fig.add_subplot(111,projection=\"3d\")\n",
    "\n",
    "xx, yy, zz = df.select(\"x\", \"y\", \"z\")\n",
    "ax.scatter(xx, yy, zz, c='white', s=.5) #, marker='*'\n",
    "ax.set_facecolor(\"black\")\n",
    "plt.show()"
   ]
  }
 ],
 "metadata": {
  "kernelspec": {
   "display_name": "Python 3",
   "language": "python",
   "name": "python3"
  },
  "language_info": {
   "codemirror_mode": {
    "name": "ipython",
    "version": 3
   },
   "file_extension": ".py",
   "mimetype": "text/x-python",
   "name": "python",
   "nbconvert_exporter": "python",
   "pygments_lexer": "ipython3",
   "version": "3.10.6"
  },
  "orig_nbformat": 4
 },
 "nbformat": 4,
 "nbformat_minor": 2
}
