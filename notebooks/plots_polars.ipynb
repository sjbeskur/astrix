{
 "cells": [
  {
   "cell_type": "code",
   "execution_count": 6,
   "metadata": {},
   "outputs": [
    {
     "data": {
      "text/html": [
       "<div><style>\n",
       ".dataframe > thead > tr > th,\n",
       ".dataframe > tbody > tr > td {\n",
       "  text-align: right;\n",
       "}\n",
       "</style>\n",
       "<small>shape: (938_654, 9)</small><table border=\"1\" class=\"dataframe\"><thead><tr><th>ra</th><th>dec</th><th>b1mag</th><th>ra_radians</th><th>dec_radians</th><th>mag_norm</th><th>x</th><th>y</th><th>z</th></tr><tr><td>f64</td><td>f64</td><td>f64</td><td>f64</td><td>f64</td><td>f64</td><td>f64</td><td>f64</td><td>f64</td></tr></thead><tbody><tr><td>101.287024</td><td>-16.716001</td><td>-1.5</td><td>1.767792</td><td>-0.291749</td><td>1.0</td><td>-0.187453</td><td>0.939219</td><td>-0.287628</td></tr><tr><td>95.987955</td><td>-52.695661</td><td>-0.62</td><td>1.675306</td><td>-0.919713</td><td>1.070456</td><td>-0.063223</td><td>0.602742</td><td>-0.795428</td></tr><tr><td>219.899787</td><td>-60.835273</td><td>0.0</td><td>3.837975</td><td>-1.061776</td><td>1.120096</td><td>-0.373858</td><td>-0.312591</td><td>-0.873222</td></tr><tr><td>213.915319</td><td>19.18245</td><td>0.0</td><td>3.733527</td><td>0.334797</td><td>1.120096</td><td>-0.783787</td><td>-0.526987</td><td>0.328577</td></tr><tr><td>279.234737</td><td>38.78369</td><td>0.03</td><td>4.873566</td><td>0.676903</td><td>1.122498</td><td>0.125096</td><td>-0.769413</td><td>0.626382</td></tr><tr><td>78.634485</td><td>-8.201653</td><td>0.1</td><td>1.372431</td><td>-0.143146</td><td>1.128102</td><td>0.195052</td><td>0.970363</td><td>-0.142657</td></tr><tr><td>79.172323</td><td>45.99798</td><td>0.1</td><td>1.381818</td><td>0.802816</td><td>1.128102</td><td>0.1305</td><td>0.682316</td><td>0.719315</td></tr><tr><td>88.793019</td><td>7.407098</td><td>0.4</td><td>1.549731</td><td>0.129278</td><td>1.152122</td><td>0.020888</td><td>0.991435</td><td>0.128918</td></tr><tr><td>114.825544</td><td>5.225022</td><td>0.4</td><td>2.004084</td><td>0.091194</td><td>1.152122</td><td>-0.418112</td><td>0.903819</td><td>0.091067</td></tr><tr><td>24.428466</td><td>-57.236726</td><td>0.5</td><td>0.426357</td><td>-0.998969</td><td>1.160128</td><td>0.492723</td><td>0.223804</td><td>-0.840914</td></tr><tr><td>210.955894</td><td>-60.372975</td><td>0.6</td><td>3.681875</td><td>-1.053707</td><td>1.168135</td><td>-0.423938</td><td>-0.254284</td><td>-0.869262</td></tr><tr><td>304.068328</td><td>-2.336699</td><td>0.75</td><td>5.306993</td><td>-0.040783</td><td>1.180144</td><td>0.559715</td><td>-0.827681</td><td>-0.040772</td></tr><tr><td>&hellip;</td><td>&hellip;</td><td>&hellip;</td><td>&hellip;</td><td>&hellip;</td><td>&hellip;</td><td>&hellip;</td><td>&hellip;</td><td>&hellip;</td></tr><tr><td>7.869367</td><td>64.981853</td><td>10.99</td><td>0.137346</td><td>1.134147</td><td>2.0</td><td>0.418923</td><td>0.057902</td><td>0.906174</td></tr><tr><td>138.283134</td><td>83.768446</td><td>10.99</td><td>2.413496</td><td>1.462035</td><td>2.0</td><td>-0.081024</td><td>0.072233</td><td>0.994091</td></tr><tr><td>328.604294</td><td>69.558769</td><td>10.99</td><td>5.735227</td><td>1.21403</td><td>2.0</td><td>0.298113</td><td>-0.181938</td><td>0.937031</td></tr><tr><td>343.823412</td><td>84.937164</td><td>10.99</td><td>6.000851</td><td>1.482433</td><td>2.0</td><td>0.084754</td><td>-0.024586</td><td>0.996099</td></tr><tr><td>356.694984</td><td>72.894034</td><td>10.99</td><td>6.225502</td><td>1.272241</td><td>2.0</td><td>0.293651</td><td>-0.016958</td><td>0.955762</td></tr><tr><td>322.594784</td><td>69.81163</td><td>10.99</td><td>5.630341</td><td>1.218443</td><td>2.0</td><td>0.27414</td><td>-0.209635</td><td>0.938563</td></tr><tr><td>235.538514</td><td>72.917821</td><td>10.99</td><td>4.110923</td><td>1.272656</td><td>2.0</td><td>-0.166215</td><td>-0.242193</td><td>0.955884</td></tr><tr><td>173.228159</td><td>85.45829</td><td>10.99</td><td>3.023402</td><td>1.491529</td><td>2.0</td><td>-0.078632</td><td>0.009337</td><td>0.99686</td></tr><tr><td>29.710761</td><td>73.1498</td><td>10.99</td><td>0.518551</td><td>1.276705</td><td>2.0</td><td>0.251764</td><td>0.143666</td><td>0.957066</td></tr><tr><td>193.720643</td><td>73.178677</td><td>10.99</td><td>3.381063</td><td>1.277209</td><td>2.0</td><td>-0.28113</td><td>-0.068639</td><td>0.957212</td></tr><tr><td>85.618153</td><td>86.23357</td><td>10.99</td><td>1.494319</td><td>1.50506</td><td>2.0</td><td>0.005019</td><td>0.065497</td><td>0.99784</td></tr><tr><td>110.711155</td><td>77.896876</td><td>10.99</td><td>1.932274</td><td>1.359557</td><td>2.0</td><td>-0.074152</td><td>0.196122</td><td>0.977772</td></tr></tbody></table></div>"
      ],
      "text/plain": [
       "shape: (938_654, 9)\n",
       "┌────────────┬────────────┬───────┬────────────┬───┬──────────┬───────────┬───────────┬───────────┐\n",
       "│ ra         ┆ dec        ┆ b1mag ┆ ra_radians ┆ … ┆ mag_norm ┆ x         ┆ y         ┆ z         │\n",
       "│ ---        ┆ ---        ┆ ---   ┆ ---        ┆   ┆ ---      ┆ ---       ┆ ---       ┆ ---       │\n",
       "│ f64        ┆ f64        ┆ f64   ┆ f64        ┆   ┆ f64      ┆ f64       ┆ f64       ┆ f64       │\n",
       "╞════════════╪════════════╪═══════╪════════════╪═══╪══════════╪═══════════╪═══════════╪═══════════╡\n",
       "│ 101.287024 ┆ -16.716001 ┆ -1.5  ┆ 1.767792   ┆ … ┆ 1.0      ┆ -0.187453 ┆ 0.939219  ┆ -0.287628 │\n",
       "│ 95.987955  ┆ -52.695661 ┆ -0.62 ┆ 1.675306   ┆ … ┆ 1.070456 ┆ -0.063223 ┆ 0.602742  ┆ -0.795428 │\n",
       "│ 219.899787 ┆ -60.835273 ┆ 0.0   ┆ 3.837975   ┆ … ┆ 1.120096 ┆ -0.373858 ┆ -0.312591 ┆ -0.873222 │\n",
       "│ 213.915319 ┆ 19.18245   ┆ 0.0   ┆ 3.733527   ┆ … ┆ 1.120096 ┆ -0.783787 ┆ -0.526987 ┆ 0.328577  │\n",
       "│ …          ┆ …          ┆ …     ┆ …          ┆ … ┆ …        ┆ …         ┆ …         ┆ …         │\n",
       "│ 29.710761  ┆ 73.1498    ┆ 10.99 ┆ 0.518551   ┆ … ┆ 2.0      ┆ 0.251764  ┆ 0.143666  ┆ 0.957066  │\n",
       "│ 193.720643 ┆ 73.178677  ┆ 10.99 ┆ 3.381063   ┆ … ┆ 2.0      ┆ -0.28113  ┆ -0.068639 ┆ 0.957212  │\n",
       "│ 85.618153  ┆ 86.23357   ┆ 10.99 ┆ 1.494319   ┆ … ┆ 2.0      ┆ 0.005019  ┆ 0.065497  ┆ 0.99784   │\n",
       "│ 110.711155 ┆ 77.896876  ┆ 10.99 ┆ 1.932274   ┆ … ┆ 2.0      ┆ -0.074152 ┆ 0.196122  ┆ 0.977772  │\n",
       "└────────────┴────────────┴───────┴────────────┴───┴──────────┴───────────┴───────────┴───────────┘"
      ]
     },
     "metadata": {},
     "output_type": "display_data"
    },
    {
     "data": {
      "text/html": [
       "<div><style>\n",
       ".dataframe > thead > tr > th,\n",
       ".dataframe > tbody > tr > td {\n",
       "  text-align: right;\n",
       "}\n",
       "</style>\n",
       "<small>shape: (1, 1)</small><table border=\"1\" class=\"dataframe\"><thead><tr><th>count</th></tr><tr><td>u32</td></tr></thead><tbody><tr><td>938654</td></tr></tbody></table></div>"
      ],
      "text/plain": [
       "shape: (1, 1)\n",
       "┌────────┐\n",
       "│ count  │\n",
       "│ ---    │\n",
       "│ u32    │\n",
       "╞════════╡\n",
       "│ 938654 │\n",
       "└────────┘"
      ]
     },
     "execution_count": 6,
     "metadata": {},
     "output_type": "execute_result"
    }
   ],
   "source": [
    "import polars as pl \n",
    "import matplotlib.pyplot as plt\n",
    "\n",
    "def NormalizeData(data, min, max):\n",
    "    return (data - min) / (max - min)\n",
    "\n",
    "\n",
    "magnitude = 11 #7.5 # most humans \n",
    "\n",
    "pi = 3.14159265358\n",
    "df = pl.read_csv(\"../data/1680058493237O-result.csv\", has_header=True)\n",
    "df  = df.filter(pl.col(\"b1mag\") < magnitude)\n",
    "df = df.sort('b1mag') #,descending=True)\n",
    "max = df.select(pl.max('b1mag'))\n",
    "min = df.select(pl.min('b1mag'))\n",
    "\n",
    "df = df.with_columns([\n",
    "    (pl.col('ra') * pi / 180).alias(\"ra_radians\"),\n",
    "    (pl.col('dec') * pi / 180).alias(\"dec_radians\"),\n",
    "    ( ((pl.col('b1mag') - min) / (max - min)) + 1).alias(\"mag_norm\")\n",
    "])\n",
    "\n",
    "df = df.with_columns([\n",
    "    (pl.col(\"dec_radians\").cos() * pl.col(\"ra_radians\").cos()).alias(\"x\"),\n",
    "    (pl.col(\"dec_radians\").cos() * pl.col(\"ra_radians\").sin()).alias(\"y\"),\n",
    "    (pl.col(\"dec_radians\").sin() ).alias(\"z\")\n",
    "])\n",
    "display(df.sort(\"b1mag\", descending=True))\n",
    "\n",
    "df.select(pl.count())"
   ]
  },
  {
   "cell_type": "code",
   "execution_count": null,
   "metadata": {},
   "outputs": [],
   "source": [
    "fig = plt.figure( figsize=(50,50), facecolor=\"white\")\n",
    "ax = fig.add_subplot(111,projection=\"3d\")\n",
    "\n",
    "xx, yy, zz = df.select(\"x\", \"y\", \"z\")\n",
    "ax.scatter(xx, yy, zz, c='magenta', s=.5) #, marker='*'\n",
    "ax.set_facecolor(\"white\")\n",
    "plt.show()\n",
    "\n"
   ]
  }
 ],
 "metadata": {
  "kernelspec": {
   "display_name": "Python 3",
   "language": "python",
   "name": "python3"
  },
  "language_info": {
   "codemirror_mode": {
    "name": "ipython",
    "version": 3
   },
   "file_extension": ".py",
   "mimetype": "text/x-python",
   "name": "python",
   "nbconvert_exporter": "python",
   "pygments_lexer": "ipython3",
   "version": "3.10.12"
  },
  "orig_nbformat": 4
 },
 "nbformat": 4,
 "nbformat_minor": 2
}
