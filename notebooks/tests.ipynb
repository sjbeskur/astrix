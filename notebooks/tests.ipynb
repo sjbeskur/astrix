{
 "cells": [
  {
   "cell_type": "code",
   "execution_count": 1,
   "metadata": {},
   "outputs": [],
   "source": [
    "import numpy as np\n",
    "import pandas as pd\n",
    "import polars as pl\n",
    "\n",
    "# See readme for how I obtained the the below data\n",
    "#catalog = pd.read_csv('../data/1680058493237O-result.csv', sep=',', header=0, dtype=np.float64)\n",
    "\n",
    "# smaller sampe of the above data for testing purposes\n",
    "catalog = pd.read_csv('../data/test.csv', sep=',', header=0, dtype=np.float64)\n",
    "\n",
    "# arbitrary threashold 'k is for Kalle'\n",
    "threshold_k = np.pi / 4\n",
    "\n",
    "# helper functio\n",
    "deg2rad = lambda rad: rad * np.pi / 180\n",
    "\n",
    "# sort the catalog by magnitudes\n",
    "stars = catalog.sort_values(by='b1mag')\n",
    "\n"
   ]
  },
  {
   "cell_type": "code",
   "execution_count": 2,
   "metadata": {},
   "outputs": [
    {
     "data": {
      "text/plain": [
       "array([[-0.18745319,  0.93921852, -0.287628  ],\n",
       "       [-0.06322262,  0.60274195, -0.79542759],\n",
       "       [-0.37385775, -0.31259124, -0.87322225],\n",
       "       [-0.78378669, -0.52698704,  0.32857736],\n",
       "       [-0.04767171,  0.08311572,  0.99539901],\n",
       "       [-0.11978572,  0.27115942,  0.95505181],\n",
       "       [-0.2945663 ,  0.02230101,  0.9553708 ],\n",
       "       [-0.05242118,  0.37907628,  0.92387943],\n",
       "       [-0.24657199, -0.29256175,  0.9239101 ],\n",
       "       [ 0.05017215, -0.41511951,  0.90838238],\n",
       "       [ 0.06515065, -0.05145824,  0.99654776],\n",
       "       [ 0.12900926,  0.25874114,  0.95729287],\n",
       "       [-0.04268434, -0.28477824,  0.95764263]])"
      ]
     },
     "execution_count": 2,
     "metadata": {},
     "output_type": "execute_result"
    }
   ],
   "source": [
    "# This bit of math is a common operation in astronomy and is used to convert the spherical coordinates (r, \\theta, \\phi) to cartesian coordinates (x, y, z)\n",
    "# To be more specific, if (RA, Dec) represents the spherical coordinates of a celestial object, then we can convert them to Cartesian coordinates (x, y, z) \n",
    "# using the following formulas:\n",
    "#   x = cos(dec) * cos(ra)\n",
    "#   y = cos(dec) * sin(ra)\n",
    "#   z = sin(dec)\n",
    "#\n",
    "rays = np.stack(\n",
    "            (   np.cos(deg2rad(stars['dec'])) * np.cos(deg2rad(stars['ra'])), \n",
    "                np.cos(deg2rad(stars['dec'])) * np.sin(deg2rad(stars['ra'])), \n",
    "                np.sin(deg2rad(stars['dec']))\n",
    "            ) \n",
    "        ).T\n",
    "rays\n",
    "\n",
    "# Conversely, if we have the Cartesian coordinates (x, y, z), we can convert them to spherical coordinates (r, θ, φ) using the following formulas:\n",
    "#\n",
    "# r = sqrt(x^2 + y^2 + z^2)\n",
    "# θ = arccos(z/r)\n",
    "# φ = atan2(y, x)\n"
   ]
  },
  {
   "attachments": {},
   "cell_type": "markdown",
   "metadata": {},
   "source": [
    "Now we have an array of cartesian coordinates tuples (x,y,z) for each star in the catalog.  Magnitude is ignored (for now). "
   ]
  },
  {
   "cell_type": "code",
   "execution_count": 3,
   "metadata": {},
   "outputs": [
    {
     "data": {
      "text/plain": [
       "array([0.63217378, 1.54314028, 2.02922629, 1.77144455, 1.5683638 ,\n",
       "       1.77075465, 1.47049987, 2.08782701, 2.29237282, 1.92535686,\n",
       "       1.62733941, 2.13520053])"
      ]
     },
     "metadata": {},
     "output_type": "display_data"
    },
    {
     "data": {
      "text/plain": [
       "array([1.01242041, 2.12874094, 2.40187153, 2.20019929, 2.38599709,\n",
       "       2.09795502, 2.6806956 , 2.92176186, 2.5460008 , 2.23148319,\n",
       "       2.76707597])"
      ]
     },
     "metadata": {},
     "output_type": "display_data"
    },
    {
     "data": {
      "text/plain": [
       "array([1.39911907, 2.64113565, 2.63407106, 2.39072365, 2.70370631,\n",
       "       2.24355224, 2.32158312, 2.64346645, 2.87639517, 2.39096047])"
      ]
     },
     "metadata": {},
     "output_type": "display_data"
    },
    {
     "data": {
      "text/plain": [
       "array([1.24440272, 1.30280256, 1.00860915, 1.42539998, 0.86187938,\n",
       "       1.07251993, 1.26243607, 1.49364401, 1.04928682])"
      ]
     },
     "metadata": {},
     "output_type": "display_data"
    },
    {
     "data": {
      "text/plain": [
       "array([0.20576182, 0.25812154, 0.30570547, 0.43446058, 0.52102751,\n",
       "       0.17584067, 0.25268866, 0.37200122])"
      ]
     },
     "metadata": {},
     "output_type": "display_data"
    },
    {
     "data": {
      "text/plain": [
       "array([0.30528754, 0.13107376, 0.58703446, 0.72427687, 0.376391  ,\n",
       "       0.24976348, 0.5689057 ])"
      ]
     },
     "metadata": {},
     "output_type": "display_data"
    },
    {
     "data": {
      "text/plain": [
       "array([0.43577609, 0.32143162, 0.56646112, 0.37163772, 0.48998895,\n",
       "       0.3998322 ])"
      ]
     },
     "metadata": {},
     "output_type": "display_data"
    },
    {
     "data": {
      "text/plain": [
       "array([0.71422074, 0.82406462, 0.45612037, 0.22070665, 0.67767716])"
      ]
     },
     "metadata": {},
     "output_type": "display_data"
    },
    {
     "data": {
      "text/plain": [
       "array([0.32283219, 0.40345279, 0.68099812, 0.20717613])"
      ]
     },
     "metadata": {},
     "output_type": "display_data"
    },
    {
     "data": {
      "text/plain": [
       "array([0.37671935, 0.69406496, 0.16764098])"
      ]
     },
     "metadata": {},
     "output_type": "display_data"
    },
    {
     "data": {
      "text/plain": [
       "array([0.3204977 , 0.26069959])"
      ]
     },
     "metadata": {},
     "output_type": "display_data"
    },
    {
     "data": {
      "text/plain": [
       "array([0.57800565])"
      ]
     },
     "metadata": {},
     "output_type": "display_data"
    },
    {
     "data": {
      "text/plain": [
       "array([], dtype=float64)"
      ]
     },
     "metadata": {},
     "output_type": "display_data"
    }
   ],
   "source": [
    "numrows = rays.shape[0]\n",
    "\n",
    "#r1 = rays[0,:]  # get the row at position 0 of the rays collection\n",
    "#display(r1)\n",
    "\n",
    "#r2 = rays[0+1:,:] # gets the next row of the rays collection  \n",
    "#display(r2)\n",
    "\n",
    "#display(r1.sum(-1))\n",
    "\n",
    "#rr = rays[0,:] * rays[0+1:,:] # gets the next row of the rays collection  \n",
    "#display(rr)\n",
    "\n",
    "#sum = (rays[0,:] * rays[0+1:,:]).sum(-1) # gets the next row of the rays collection  \n",
    "#display(\"sum is \")\n",
    "#display(sum)\n",
    "#display(\"sum is \")\n",
    "#display(rays[0+1:,:].sum(-1))\n",
    "\n",
    "\n",
    "\n",
    "#rays[0+1:,:] # this is where I loose track?  \n",
    "d = np.arccos((rays[0,:] * rays[0+1:,:]).sum(-1) )\n",
    "\n",
    "#display(d)\n",
    "flat = np.flatnonzero(d < threshold_k)\n",
    "#display(flat)\n",
    "\n",
    "for i in range(0, numrows):\n",
    "    d = np.arccos((rays[i,:] * rays[i+1:,:]).sum(-1) )\n",
    "    display(d)\n"
   ]
  },
  {
   "cell_type": "code",
   "execution_count": 4,
   "metadata": {},
   "outputs": [
    {
     "data": {
      "text/html": [
       "<div>\n",
       "<style scoped>\n",
       "    .dataframe tbody tr th:only-of-type {\n",
       "        vertical-align: middle;\n",
       "    }\n",
       "\n",
       "    .dataframe tbody tr th {\n",
       "        vertical-align: top;\n",
       "    }\n",
       "\n",
       "    .dataframe thead th {\n",
       "        text-align: right;\n",
       "    }\n",
       "</style>\n",
       "<table border=\"1\" class=\"dataframe\">\n",
       "  <thead>\n",
       "    <tr style=\"text-align: right;\">\n",
       "      <th></th>\n",
       "      <th>i</th>\n",
       "      <th>j</th>\n",
       "      <th>d</th>\n",
       "    </tr>\n",
       "  </thead>\n",
       "  <tbody>\n",
       "    <tr>\n",
       "      <th>10</th>\n",
       "      <td>5</td>\n",
       "      <td>7</td>\n",
       "      <td>0.131074</td>\n",
       "    </tr>\n",
       "    <tr>\n",
       "      <th>32</th>\n",
       "      <td>9</td>\n",
       "      <td>12</td>\n",
       "      <td>0.167641</td>\n",
       "    </tr>\n",
       "    <tr>\n",
       "      <th>6</th>\n",
       "      <td>4</td>\n",
       "      <td>10</td>\n",
       "      <td>0.175841</td>\n",
       "    </tr>\n",
       "    <tr>\n",
       "      <th>1</th>\n",
       "      <td>4</td>\n",
       "      <td>5</td>\n",
       "      <td>0.205762</td>\n",
       "    </tr>\n",
       "    <tr>\n",
       "      <th>29</th>\n",
       "      <td>8</td>\n",
       "      <td>12</td>\n",
       "      <td>0.207176</td>\n",
       "    </tr>\n",
       "    <tr>\n",
       "      <th>24</th>\n",
       "      <td>7</td>\n",
       "      <td>11</td>\n",
       "      <td>0.220707</td>\n",
       "    </tr>\n",
       "    <tr>\n",
       "      <th>14</th>\n",
       "      <td>5</td>\n",
       "      <td>11</td>\n",
       "      <td>0.249763</td>\n",
       "    </tr>\n",
       "    <tr>\n",
       "      <th>7</th>\n",
       "      <td>4</td>\n",
       "      <td>11</td>\n",
       "      <td>0.252689</td>\n",
       "    </tr>\n",
       "    <tr>\n",
       "      <th>2</th>\n",
       "      <td>4</td>\n",
       "      <td>6</td>\n",
       "      <td>0.258122</td>\n",
       "    </tr>\n",
       "    <tr>\n",
       "      <th>34</th>\n",
       "      <td>10</td>\n",
       "      <td>12</td>\n",
       "      <td>0.260700</td>\n",
       "    </tr>\n",
       "    <tr>\n",
       "      <th>9</th>\n",
       "      <td>5</td>\n",
       "      <td>6</td>\n",
       "      <td>0.305288</td>\n",
       "    </tr>\n",
       "    <tr>\n",
       "      <th>3</th>\n",
       "      <td>4</td>\n",
       "      <td>7</td>\n",
       "      <td>0.305705</td>\n",
       "    </tr>\n",
       "    <tr>\n",
       "      <th>33</th>\n",
       "      <td>10</td>\n",
       "      <td>11</td>\n",
       "      <td>0.320498</td>\n",
       "    </tr>\n",
       "    <tr>\n",
       "      <th>17</th>\n",
       "      <td>6</td>\n",
       "      <td>8</td>\n",
       "      <td>0.321432</td>\n",
       "    </tr>\n",
       "    <tr>\n",
       "      <th>26</th>\n",
       "      <td>8</td>\n",
       "      <td>9</td>\n",
       "      <td>0.322832</td>\n",
       "    </tr>\n",
       "    <tr>\n",
       "      <th>19</th>\n",
       "      <td>6</td>\n",
       "      <td>10</td>\n",
       "      <td>0.371638</td>\n",
       "    </tr>\n",
       "    <tr>\n",
       "      <th>8</th>\n",
       "      <td>4</td>\n",
       "      <td>12</td>\n",
       "      <td>0.372001</td>\n",
       "    </tr>\n",
       "    <tr>\n",
       "      <th>13</th>\n",
       "      <td>5</td>\n",
       "      <td>10</td>\n",
       "      <td>0.376391</td>\n",
       "    </tr>\n",
       "    <tr>\n",
       "      <th>30</th>\n",
       "      <td>9</td>\n",
       "      <td>10</td>\n",
       "      <td>0.376719</td>\n",
       "    </tr>\n",
       "    <tr>\n",
       "      <th>21</th>\n",
       "      <td>6</td>\n",
       "      <td>12</td>\n",
       "      <td>0.399832</td>\n",
       "    </tr>\n",
       "    <tr>\n",
       "      <th>27</th>\n",
       "      <td>8</td>\n",
       "      <td>10</td>\n",
       "      <td>0.403453</td>\n",
       "    </tr>\n",
       "    <tr>\n",
       "      <th>4</th>\n",
       "      <td>4</td>\n",
       "      <td>8</td>\n",
       "      <td>0.434461</td>\n",
       "    </tr>\n",
       "    <tr>\n",
       "      <th>16</th>\n",
       "      <td>6</td>\n",
       "      <td>7</td>\n",
       "      <td>0.435776</td>\n",
       "    </tr>\n",
       "    <tr>\n",
       "      <th>23</th>\n",
       "      <td>7</td>\n",
       "      <td>10</td>\n",
       "      <td>0.456120</td>\n",
       "    </tr>\n",
       "    <tr>\n",
       "      <th>20</th>\n",
       "      <td>6</td>\n",
       "      <td>11</td>\n",
       "      <td>0.489989</td>\n",
       "    </tr>\n",
       "    <tr>\n",
       "      <th>5</th>\n",
       "      <td>4</td>\n",
       "      <td>9</td>\n",
       "      <td>0.521028</td>\n",
       "    </tr>\n",
       "    <tr>\n",
       "      <th>18</th>\n",
       "      <td>6</td>\n",
       "      <td>9</td>\n",
       "      <td>0.566461</td>\n",
       "    </tr>\n",
       "    <tr>\n",
       "      <th>15</th>\n",
       "      <td>5</td>\n",
       "      <td>12</td>\n",
       "      <td>0.568906</td>\n",
       "    </tr>\n",
       "    <tr>\n",
       "      <th>35</th>\n",
       "      <td>11</td>\n",
       "      <td>12</td>\n",
       "      <td>0.578006</td>\n",
       "    </tr>\n",
       "    <tr>\n",
       "      <th>11</th>\n",
       "      <td>5</td>\n",
       "      <td>8</td>\n",
       "      <td>0.587034</td>\n",
       "    </tr>\n",
       "    <tr>\n",
       "      <th>0</th>\n",
       "      <td>0</td>\n",
       "      <td>1</td>\n",
       "      <td>0.632174</td>\n",
       "    </tr>\n",
       "    <tr>\n",
       "      <th>25</th>\n",
       "      <td>7</td>\n",
       "      <td>12</td>\n",
       "      <td>0.677677</td>\n",
       "    </tr>\n",
       "    <tr>\n",
       "      <th>28</th>\n",
       "      <td>8</td>\n",
       "      <td>11</td>\n",
       "      <td>0.680998</td>\n",
       "    </tr>\n",
       "    <tr>\n",
       "      <th>31</th>\n",
       "      <td>9</td>\n",
       "      <td>11</td>\n",
       "      <td>0.694065</td>\n",
       "    </tr>\n",
       "    <tr>\n",
       "      <th>22</th>\n",
       "      <td>7</td>\n",
       "      <td>8</td>\n",
       "      <td>0.714221</td>\n",
       "    </tr>\n",
       "    <tr>\n",
       "      <th>12</th>\n",
       "      <td>5</td>\n",
       "      <td>9</td>\n",
       "      <td>0.724277</td>\n",
       "    </tr>\n",
       "  </tbody>\n",
       "</table>\n",
       "</div>"
      ],
      "text/plain": [
       "     i   j         d\n",
       "10   5   7  0.131074\n",
       "32   9  12  0.167641\n",
       "6    4  10  0.175841\n",
       "1    4   5  0.205762\n",
       "29   8  12  0.207176\n",
       "24   7  11  0.220707\n",
       "14   5  11  0.249763\n",
       "7    4  11  0.252689\n",
       "2    4   6  0.258122\n",
       "34  10  12  0.260700\n",
       "9    5   6  0.305288\n",
       "3    4   7  0.305705\n",
       "33  10  11  0.320498\n",
       "17   6   8  0.321432\n",
       "26   8   9  0.322832\n",
       "19   6  10  0.371638\n",
       "8    4  12  0.372001\n",
       "13   5  10  0.376391\n",
       "30   9  10  0.376719\n",
       "21   6  12  0.399832\n",
       "27   8  10  0.403453\n",
       "4    4   8  0.434461\n",
       "16   6   7  0.435776\n",
       "23   7  10  0.456120\n",
       "20   6  11  0.489989\n",
       "5    4   9  0.521028\n",
       "18   6   9  0.566461\n",
       "15   5  12  0.568906\n",
       "35  11  12  0.578006\n",
       "11   5   8  0.587034\n",
       "0    0   1  0.632174\n",
       "25   7  12  0.677677\n",
       "28   8  11  0.680998\n",
       "31   9  11  0.694065\n",
       "22   7   8  0.714221\n",
       "12   5   9  0.724277"
      ]
     },
     "execution_count": 4,
     "metadata": {},
     "output_type": "execute_result"
    }
   ],
   "source": [
    "i_, j_, d_ = [],[],[]\n",
    "for i in range(0, numrows):\n",
    "    d = np.arccos((rays[i,:] * rays[i+1:,:]).sum(-1) )\n",
    "    for j in np.flatnonzero(d < threshold_k):\n",
    "        i_.append(i)\n",
    "        j_.append(i+1+j)\n",
    "        d_.append(d[j])\n",
    "\n",
    "pairs = pd.DataFrame({'i':np.array(i_), 'j':np.array(j_), 'd':np.array(d_)}).sort_values(by='d')\n",
    "\n",
    "pairs\n"
   ]
  }
 ],
 "metadata": {
  "kernelspec": {
   "display_name": "Python 3",
   "language": "python",
   "name": "python3"
  },
  "language_info": {
   "codemirror_mode": {
    "name": "ipython",
    "version": 3
   },
   "file_extension": ".py",
   "mimetype": "text/x-python",
   "name": "python",
   "nbconvert_exporter": "python",
   "pygments_lexer": "ipython3",
   "version": "3.10.12"
  },
  "orig_nbformat": 4
 },
 "nbformat": 4,
 "nbformat_minor": 2
}
