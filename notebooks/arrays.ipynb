{
 "cells": [
  {
   "cell_type": "code",
   "execution_count": 19,
   "metadata": {},
   "outputs": [
    {
     "data": {
      "text/plain": [
       "array([[-0.18745319,  0.93921852, -0.287628  ],\n",
       "       [-0.06322262,  0.60274195, -0.79542759],\n",
       "       [-0.37385775, -0.31259124, -0.87322225]])"
      ]
     },
     "execution_count": 19,
     "metadata": {},
     "output_type": "execute_result"
    }
   ],
   "source": [
    "import numpy as np\n",
    "        # [0.3014848 , -0.09280358,  0.94894384],\n",
    "        # [0.3014848 , -0.09280358,  0.94894384],\n",
    "        # [0.3014848 , -0.09280358,  0.94894384],\n",
    "        # [0.3014848 , -0.09280358,  0.94894384],\n",
    "        # [0.3014848 , -0.09280358,  0.94894384],\n",
    "rays = np.stack((\n",
    "        [-0.18745319,  0.93921852, -0.287628  ],\n",
    "        [-0.06322262,  0.60274195, -0.79542759],\n",
    "        [-0.37385775, -0.31259124, -0.87322225],\n",
    "))\n",
    "\n",
    "rays\n",
    "\n",
    "# (rays[0,:] * rays[0+1:,:]).sum(-1) # gets the next row of the rays collection  \n"
   ]
  },
  {
   "cell_type": "code",
   "execution_count": 20,
   "metadata": {},
   "outputs": [
    {
     "data": {
      "text/plain": [
       "array([[-0.06322262,  0.60274195, -0.79542759],\n",
       "       [-0.37385775, -0.31259124, -0.87322225]])"
      ]
     },
     "execution_count": 20,
     "metadata": {},
     "output_type": "execute_result"
    }
   ],
   "source": [
    "rays[0+1:,:]\n"
   ]
  },
  {
   "cell_type": "code",
   "execution_count": 30,
   "metadata": {},
   "outputs": [
    {
     "data": {
      "text/plain": [
       "array([[ 0.01185128,  0.5661064 ,  0.22878725],\n",
       "       [ 0.07008083, -0.29359148,  0.25116317]])"
      ]
     },
     "execution_count": 30,
     "metadata": {},
     "output_type": "execute_result"
    }
   ],
   "source": [
    "rays[0,:] * rays[0+1:,:]\n"
   ]
  },
  {
   "cell_type": "code",
   "execution_count": 33,
   "metadata": {},
   "outputs": [
    {
     "data": {
      "text/plain": [
       "array([0.08193211, 0.27251492, 0.47995042])"
      ]
     },
     "execution_count": 33,
     "metadata": {},
     "output_type": "execute_result"
    }
   ],
   "source": [
    "(rays[0,:] * rays[0+1:,:]).sum(-1)\n"
   ]
  },
  {
   "cell_type": "code",
   "execution_count": 47,
   "metadata": {},
   "outputs": [
    {
     "data": {
      "text/plain": [
       "array([0, 1, 2])"
      ]
     },
     "execution_count": 47,
     "metadata": {},
     "output_type": "execute_result"
    }
   ],
   "source": [
    "d = np.arccos((rays[0,:] * rays[0+1:,:]).sum(-2))\n",
    "np.flatnonzero(d < 4)\n"
   ]
  },
  {
   "attachments": {},
   "cell_type": "markdown",
   "metadata": {},
   "source": []
  }
 ],
 "metadata": {
  "kernelspec": {
   "display_name": "Python 3",
   "language": "python",
   "name": "python3"
  },
  "language_info": {
   "codemirror_mode": {
    "name": "ipython",
    "version": 3
   },
   "file_extension": ".py",
   "mimetype": "text/x-python",
   "name": "python",
   "nbconvert_exporter": "python",
   "pygments_lexer": "ipython3",
   "version": "3.10.6"
  },
  "orig_nbformat": 4
 },
 "nbformat": 4,
 "nbformat_minor": 2
}
