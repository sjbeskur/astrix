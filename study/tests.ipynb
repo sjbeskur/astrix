{
 "cells": [
  {
   "cell_type": "code",
   "execution_count": 22,
   "metadata": {},
   "outputs": [],
   "source": [
    "import numpy as np\n",
    "import pandas as pd\n",
    "import polars as pl\n",
    "\n",
    "# See readme for how I obtained the the below data\n",
    "#catalog = pd.read_csv('../data/1680058493237O-result.csv', sep=',', header=0, dtype=np.float64)\n",
    "\n",
    "# smaller sampe of the above data for testing purposes\n",
    "catalog = pd.read_csv('../data/test.csv', sep=',', header=0, dtype=np.float64)\n",
    "\n",
    "# arbitrary threashold 'k is for Kalle'\n",
    "threshold_k = np.pi / 5\n",
    "\n",
    "# helper functio\n",
    "deg2rad = lambda rad: rad * np.pi / 180\n",
    "\n",
    "# sort the catalog by magnitudes\n",
    "stars = catalog.sort_values(by='b1mag')\n",
    "\n"
   ]
  },
  {
   "cell_type": "code",
   "execution_count": 23,
   "metadata": {},
   "outputs": [
    {
     "data": {
      "text/plain": [
       "array([[-0.18745319,  0.93921852, -0.287628  ],\n",
       "       [-0.06322262,  0.60274195, -0.79542759],\n",
       "       [-0.37385775, -0.31259124, -0.87322225],\n",
       "       [-0.78378669, -0.52698704,  0.32857736],\n",
       "       [-0.04767171,  0.08311572,  0.99539901],\n",
       "       [-0.11978572,  0.27115942,  0.95505181],\n",
       "       [-0.2945663 ,  0.02230101,  0.9553708 ],\n",
       "       [-0.05242118,  0.37907628,  0.92387943],\n",
       "       [-0.24657199, -0.29256175,  0.9239101 ],\n",
       "       [ 0.05017215, -0.41511951,  0.90838238],\n",
       "       [ 0.06515065, -0.05145824,  0.99654776],\n",
       "       [ 0.12900926,  0.25874114,  0.95729287],\n",
       "       [-0.04268434, -0.28477824,  0.95764263]])"
      ]
     },
     "execution_count": 23,
     "metadata": {},
     "output_type": "execute_result"
    }
   ],
   "source": [
    "# This bit of math is a common operation in astronomy and is used to convert the spherical coordinates (r, \\theta, \\phi) to cartesian coordinates (x, y, z)\n",
    "# To be more specific, if (RA, Dec) represents the spherical coordinates of a celestial object, then we can convert them to Cartesian coordinates (x, y, z) \n",
    "# using the following formulas:\n",
    "#   x = cos(dec) * cos(ra)\n",
    "#   y = cos(dec) * sin(ra)\n",
    "#   z = sin(dec)\n",
    "#\n",
    "rays = np.stack(\n",
    "            (   np.cos(deg2rad(stars['dec'])) * np.cos(deg2rad(stars['ra'])), \n",
    "                np.cos(deg2rad(stars['dec'])) * np.sin(deg2rad(stars['ra'])), \n",
    "                np.sin(deg2rad(stars['dec']))\n",
    "            ) \n",
    "        ).T\n",
    "rays\n",
    "\n",
    "# Conversely, if we have the Cartesian coordinates (x, y, z), we can convert them to spherical coordinates (r, θ, φ) using the following formulas:\n",
    "#\n",
    "# r = sqrt(x^2 + y^2 + z^2)\n",
    "# θ = arccos(z/r)\n",
    "# φ = atan2(y, x)\n"
   ]
  },
  {
   "attachments": {},
   "cell_type": "markdown",
   "metadata": {},
   "source": [
    "Now we have an array of cartesian coordinates tuples (x,y,z) for each star in the catalog.  Magnitude is ignored (for now). "
   ]
  },
  {
   "cell_type": "code",
   "execution_count": 26,
   "metadata": {},
   "outputs": [
    {
     "data": {
      "text/plain": [
       "array([-0.18745319,  0.93921852, -0.287628  ])"
      ]
     },
     "metadata": {},
     "output_type": "display_data"
    },
    {
     "data": {
      "text/plain": [
       "array([[-0.06322262,  0.60274195, -0.79542759],\n",
       "       [-0.37385775, -0.31259124, -0.87322225],\n",
       "       [-0.78378669, -0.52698704,  0.32857736],\n",
       "       [-0.04767171,  0.08311572,  0.99539901],\n",
       "       [-0.11978572,  0.27115942,  0.95505181],\n",
       "       [-0.2945663 ,  0.02230101,  0.9553708 ],\n",
       "       [-0.05242118,  0.37907628,  0.92387943],\n",
       "       [-0.24657199, -0.29256175,  0.9239101 ],\n",
       "       [ 0.05017215, -0.41511951,  0.90838238],\n",
       "       [ 0.06515065, -0.05145824,  0.99654776],\n",
       "       [ 0.12900926,  0.25874114,  0.95729287],\n",
       "       [-0.04268434, -0.28477824,  0.95764263]])"
      ]
     },
     "metadata": {},
     "output_type": "display_data"
    },
    {
     "data": {
      "text/plain": [
       "0.46413733527562284"
      ]
     },
     "metadata": {},
     "output_type": "display_data"
    },
    {
     "data": {
      "text/plain": [
       "array([[ 0.01185128,  0.5661064 ,  0.22878725],\n",
       "       [ 0.07008083, -0.29359148,  0.25116317],\n",
       "       [ 0.14692331, -0.49495599, -0.09450805],\n",
       "       [ 0.00893621,  0.07806382, -0.28630463],\n",
       "       [ 0.02245421,  0.25467795, -0.27469964],\n",
       "       [ 0.05521739,  0.02094552, -0.27479139],\n",
       "       [ 0.00982652,  0.35603546, -0.26573359],\n",
       "       [ 0.04622071, -0.27477942, -0.26574241],\n",
       "       [-0.00940493, -0.38988793, -0.26127621],\n",
       "       [-0.0122127 , -0.04833053, -0.28663504],\n",
       "       [-0.0241832 ,  0.24301447, -0.27534423],\n",
       "       [ 0.00800131, -0.267469  , -0.27544483]])"
      ]
     },
     "metadata": {},
     "output_type": "display_data"
    },
    {
     "data": {
      "text/plain": [
       "'sum is '"
      ]
     },
     "metadata": {},
     "output_type": "display_data"
    },
    {
     "data": {
      "text/plain": [
       "array([ 0.80674493,  0.02765252, -0.44254072, -0.19930459,  0.00243252,\n",
       "       -0.19862848,  0.10012839, -0.49430113, -0.66056907, -0.34717827,\n",
       "       -0.05651296, -0.53491252])"
      ]
     },
     "metadata": {},
     "output_type": "display_data"
    },
    {
     "data": {
      "text/plain": [
       "'sum is '"
      ]
     },
     "metadata": {},
     "output_type": "display_data"
    },
    {
     "data": {
      "text/plain": [
       "array([-0.25590826, -1.55967124, -0.98219637,  1.03084301,  1.10642551,\n",
       "        0.6831055 ,  1.25053453,  0.38477635,  0.54343502,  1.01024018,\n",
       "        1.34504326,  0.63018005])"
      ]
     },
     "metadata": {},
     "output_type": "display_data"
    },
    {
     "data": {
      "text/plain": [
       "array([0.63217378, 1.54314028, 2.02922629, 1.77144455, 1.5683638 ,\n",
       "       1.77075465, 1.47049987, 2.08782701, 2.29237282, 1.92535686,\n",
       "       1.62733941, 2.13520053])"
      ]
     },
     "metadata": {},
     "output_type": "display_data"
    },
    {
     "data": {
      "text/plain": [
       "array([1.01242041, 2.12874094, 2.40187153, 2.20019929, 2.38599709,\n",
       "       2.09795502, 2.6806956 , 2.92176186, 2.5460008 , 2.23148319,\n",
       "       2.76707597])"
      ]
     },
     "metadata": {},
     "output_type": "display_data"
    },
    {
     "data": {
      "text/plain": [
       "array([1.39911907, 2.64113565, 2.63407106, 2.39072365, 2.70370631,\n",
       "       2.24355224, 2.32158312, 2.64346645, 2.87639517, 2.39096047])"
      ]
     },
     "metadata": {},
     "output_type": "display_data"
    },
    {
     "data": {
      "text/plain": [
       "array([1.24440272, 1.30280256, 1.00860915, 1.42539998, 0.86187938,\n",
       "       1.07251993, 1.26243607, 1.49364401, 1.04928682])"
      ]
     },
     "metadata": {},
     "output_type": "display_data"
    },
    {
     "data": {
      "text/plain": [
       "array([0.20576182, 0.25812154, 0.30570547, 0.43446058, 0.52102751,\n",
       "       0.17584067, 0.25268866, 0.37200122])"
      ]
     },
     "metadata": {},
     "output_type": "display_data"
    },
    {
     "data": {
      "text/plain": [
       "array([0.30528754, 0.13107376, 0.58703446, 0.72427687, 0.376391  ,\n",
       "       0.24976348, 0.5689057 ])"
      ]
     },
     "metadata": {},
     "output_type": "display_data"
    },
    {
     "data": {
      "text/plain": [
       "array([0.43577609, 0.32143162, 0.56646112, 0.37163772, 0.48998895,\n",
       "       0.3998322 ])"
      ]
     },
     "metadata": {},
     "output_type": "display_data"
    },
    {
     "data": {
      "text/plain": [
       "array([0.71422074, 0.82406462, 0.45612037, 0.22070665, 0.67767716])"
      ]
     },
     "metadata": {},
     "output_type": "display_data"
    },
    {
     "data": {
      "text/plain": [
       "array([0.32283219, 0.40345279, 0.68099812, 0.20717613])"
      ]
     },
     "metadata": {},
     "output_type": "display_data"
    },
    {
     "data": {
      "text/plain": [
       "array([0.37671935, 0.69406496, 0.16764098])"
      ]
     },
     "metadata": {},
     "output_type": "display_data"
    },
    {
     "data": {
      "text/plain": [
       "array([0.3204977 , 0.26069959])"
      ]
     },
     "metadata": {},
     "output_type": "display_data"
    },
    {
     "data": {
      "text/plain": [
       "array([0.57800565])"
      ]
     },
     "metadata": {},
     "output_type": "display_data"
    },
    {
     "data": {
      "text/plain": [
       "array([], dtype=float64)"
      ]
     },
     "metadata": {},
     "output_type": "display_data"
    }
   ],
   "source": [
    "numrows = rays.shape[0]\n",
    "\n",
    "r1 = rays[0,:]  # get the row at position 0 of the rays collection\n",
    "display(r1)\n",
    "\n",
    "r2 = rays[0+1:,:] # gets the next row of the rays collection  \n",
    "display(r2)\n",
    "\n",
    "display(r1.sum(-1))\n",
    "\n",
    "rr = rays[0,:] * rays[0+1:,:] # gets the next row of the rays collection  \n",
    "display(rr)\n",
    "\n",
    "sum = (rays[0,:] * rays[0+1:,:]).sum(-1) # gets the next row of the rays collection  \n",
    "display(\"sum is \")\n",
    "display(sum)\n",
    "display(\"sum is \")\n",
    "display(rays[0+1:,:].sum(-1))\n",
    "\n",
    "\n",
    "\n",
    "rays[0+1:,:] # this is where I loose track?  \n",
    "d = np.arccos((rays[0,:] * rays[0+1:,:]).sum(-1) )\n",
    "#display(d)\n",
    "flat = np.flatnonzero(d < threshold_k)\n",
    "#display(flat)\n",
    "\n",
    "for i in range(0, numrows):\n",
    "    d = np.arccos((rays[i,:] * rays[i+1:,:]).sum(-1) )\n",
    "    display(d)\n"
   ]
  },
  {
   "cell_type": "code",
   "execution_count": null,
   "metadata": {},
   "outputs": [],
   "source": [
    "i_, j_, d_ = [],[],[]\n",
    "for i in range(0, numrows):\n",
    "    d = np.arccos((rays[i,:] * rays[i+1:,:]).sum(-1) )\n",
    "    for j in np.flatnonzero(d < threshold_k):\n",
    "        i_.append(i)\n",
    "        j_.append(i+1+j)\n",
    "        d_.append(d[j])\n",
    "\n",
    "pairs = pd.DataFrame({'i':np.array(i_), 'j':np.array(j_), 'd':np.array(d_)}).sort_values(by='d')\n",
    "\n",
    "pairs\n"
   ]
  }
 ],
 "metadata": {
  "kernelspec": {
   "display_name": "Python 3",
   "language": "python",
   "name": "python3"
  },
  "language_info": {
   "codemirror_mode": {
    "name": "ipython",
    "version": 3
   },
   "file_extension": ".py",
   "mimetype": "text/x-python",
   "name": "python",
   "nbconvert_exporter": "python",
   "pygments_lexer": "ipython3",
   "version": "3.10.6"
  },
  "orig_nbformat": 4
 },
 "nbformat": 4,
 "nbformat_minor": 2
}
